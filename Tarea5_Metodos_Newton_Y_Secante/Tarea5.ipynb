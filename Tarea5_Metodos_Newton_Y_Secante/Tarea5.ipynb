{
 "cells": [
  {
   "cell_type": "raw",
   "id": "2e043e0a-8bfd-43dc-baed-dba49ec9d121",
   "metadata": {},
   "source": [
    "---\n",
    "title: \"Tarea 5-Metodo de Newton y de la Secante\"\n",
    "author: \"Josè Armando Sarango Cuenca\"\n",
    "lang: es\n",
    "format: \n",
    "  pdf:\n",
    "    toc: true\n",
    "    toc-title: \"Tabla de Contenidos\"  \n",
    "execute:\n",
    "  echo: true\n",
    "  error: false\n",
    "  warning: false\n",
    "jupyter: python3\n",
    "---"
   ]
  },
  {
   "cell_type": "markdown",
   "id": "8d3acb67-34f4-4c3c-93c5-c655b82a1e0c",
   "metadata": {},
   "source": [
    "# Conjunto de ejercicios"
   ]
  },
  {
   "cell_type": "markdown",
   "id": "3fbdf4dd-3762-41e7-b172-cfcaf72b0cfc",
   "metadata": {},
   "source": [
    "### 1. Sea $𝑓(𝑥) = −𝑥^3 − cos (𝑥 )$ y  $𝑝_0 = −1$. Use el método de Newton y de la Secante para encontrar $p_2$. ###"
   ]
  },
  {
   "cell_type": "code",
   "execution_count": 183,
   "id": "ca435230-4b63-4b3f-808d-52bfa090fbb9",
   "metadata": {
    "tags": []
   },
   "outputs": [],
   "source": [
    "import math\n",
    "def f(x):\n",
    "    return -x**3 - math.cos(x)\n",
    "def df(x):\n",
    "    return -3*x**2 + math.sin(x)\n",
    "def newton(p0, tol, max_iter):\n",
    "    p = p0\n",
    "    for i in range(max_iter):\n",
    "        p = p - f(p) / df(p)\n",
    "        if abs(f(p)) < tol:\n",
    "            return p, i\n",
    "    return p, max_iter"
   ]
  },
  {
   "cell_type": "code",
   "execution_count": 184,
   "id": "ca8062b8-f6ff-4fc8-a3a7-6c64dee3b5cd",
   "metadata": {
    "tags": []
   },
   "outputs": [
    {
     "name": "stdout",
     "output_type": "stream",
     "text": [
      "Método de Newton:\n",
      "p2 = -0.865474075952977\n",
      "Iteraciones necesarias: 2\n"
     ]
    }
   ],
   "source": [
    "p0 = -1\n",
    "p1 = p0 + 0.1 \n",
    "tolerancia = 1e-6\n",
    "max_iteraciones = 1000\n",
    "p_newton, iter_newton = newton(p0, tolerancia, max_iteraciones)\n",
    "print(\"Método de Newton:\")\n",
    "print(\"p2 =\", p_newton)\n",
    "print(\"Iteraciones necesarias:\", iter_newton)"
   ]
  },
  {
   "cell_type": "code",
   "execution_count": 187,
   "id": "27ca8ce0-96a5-48ad-9e10-ae11789433c2",
   "metadata": {
    "tags": []
   },
   "outputs": [],
   "source": [
    "import numpy as np\n",
    "from scipy.optimize import newton\n",
    "func = lambda x: -x**3 - np.cos(x)"
   ]
  },
  {
   "cell_type": "code",
   "execution_count": 188,
   "id": "51ce5920-270b-4cd9-aaa8-a86648f61a6f",
   "metadata": {
    "tags": []
   },
   "outputs": [
    {
     "name": "stdout",
     "output_type": "stream",
     "text": [
      "Metodo de la secante:\n",
      "Número de iteraciones realizadas: 6\n",
      "El valor de p2 es: -0.8654740331016144\n"
     ]
    }
   ],
   "source": [
    "x0 = -1\n",
    "p2, iterations = newton(func, x0, full_output=True)\n",
    "print(\"Metodo de la secante:\")\n",
    "print(f\"Número de iteraciones realizadas: {iterations.iterations}\")\n",
    "print(f\"El valor de p2 es: {p2}\")"
   ]
  },
  {
   "cell_type": "markdown",
   "id": "4b314c21-8784-423f-af73-71c3e942c7df",
   "metadata": {},
   "source": [
    "### ¿Se podría usar $p_0 = 0$? ###"
   ]
  },
  {
   "cell_type": "markdown",
   "id": "2d88e8c0-d875-496c-ab90-d0bc2b2913f9",
   "metadata": {
    "tags": []
   },
   "source": [
    "Con el punto $p_0=0$ no se podria realizar el metodo de newton ya que al aplicar la formula se tendria una division por cero lo cual no se puede hacer.  \n",
    "Cambiando el punto inicial en el codigo podemos ver que nos arroja un error."
   ]
  },
  {
   "cell_type": "code",
   "execution_count": 193,
   "id": "79e78751-70af-410a-8361-77bff318a0b5",
   "metadata": {
    "tags": []
   },
   "outputs": [
    {
     "ename": "ZeroDivisionError",
     "evalue": "float division by zero",
     "output_type": "error",
     "traceback": [
      "\u001b[1;31m---------------------------------------------------------------------------\u001b[0m",
      "\u001b[1;31mZeroDivisionError\u001b[0m                         Traceback (most recent call last)",
      "Cell \u001b[1;32mIn[193], line 17\u001b[0m\n\u001b[0;32m     15\u001b[0m tolerancia \u001b[38;5;241m=\u001b[39m \u001b[38;5;241m1e-6\u001b[39m\n\u001b[0;32m     16\u001b[0m max_iteraciones \u001b[38;5;241m=\u001b[39m \u001b[38;5;241m1000\u001b[39m\n\u001b[1;32m---> 17\u001b[0m p_newton, iter_newton \u001b[38;5;241m=\u001b[39m newton(p0, tolerancia, max_iteraciones)\n\u001b[0;32m     18\u001b[0m \u001b[38;5;28mprint\u001b[39m(\u001b[38;5;124m\"\u001b[39m\u001b[38;5;124mMétodo de Newton:\u001b[39m\u001b[38;5;124m\"\u001b[39m)\n\u001b[0;32m     19\u001b[0m \u001b[38;5;28mprint\u001b[39m(\u001b[38;5;124m\"\u001b[39m\u001b[38;5;124mp2 =\u001b[39m\u001b[38;5;124m\"\u001b[39m, p_newton)\n",
      "Cell \u001b[1;32mIn[193], line 9\u001b[0m, in \u001b[0;36mnewton\u001b[1;34m(p0, tol, max_iter)\u001b[0m\n\u001b[0;32m      7\u001b[0m p \u001b[38;5;241m=\u001b[39m p0\n\u001b[0;32m      8\u001b[0m \u001b[38;5;28;01mfor\u001b[39;00m i \u001b[38;5;129;01min\u001b[39;00m \u001b[38;5;28mrange\u001b[39m(max_iter):\n\u001b[1;32m----> 9\u001b[0m     p \u001b[38;5;241m=\u001b[39m p \u001b[38;5;241m-\u001b[39m f(p) \u001b[38;5;241m/\u001b[39m df(p)\n\u001b[0;32m     10\u001b[0m     \u001b[38;5;28;01mif\u001b[39;00m \u001b[38;5;28mabs\u001b[39m(f(p)) \u001b[38;5;241m<\u001b[39m tol:\n\u001b[0;32m     11\u001b[0m         \u001b[38;5;28;01mreturn\u001b[39;00m p, i\n",
      "\u001b[1;31mZeroDivisionError\u001b[0m: float division by zero"
     ]
    }
   ],
   "source": [
    "import math\n",
    "def f(x):\n",
    "    return -x**3 - math.cos(x)\n",
    "def df(x):\n",
    "    return -3*x**2 + math.sin(x)\n",
    "def newton(p0, tol, max_iter):\n",
    "    p = p0\n",
    "    for i in range(max_iter):\n",
    "        p = p - f(p) / df(p)\n",
    "        if abs(f(p)) < tol:\n",
    "            return p, i\n",
    "    return p, max_iter\n",
    "p0 = 0\n",
    "p1 = p0 + 0.1 \n",
    "tolerancia = 1e-6\n",
    "max_iteraciones = 1000\n",
    "p_newton, iter_newton = newton(p0, tolerancia, max_iteraciones)\n",
    "print(\"Método de Newton:\")\n",
    "print(\"p2 =\", p_newton)\n",
    "print(\"Iteraciones necesarias:\", iter_newton)"
   ]
  },
  {
   "cell_type": "markdown",
   "id": "07f89f18-fdff-481e-b400-8c3b7a46fadb",
   "metadata": {},
   "source": [
    "Con el metodo de la secante si se puede hacer ya que esta por decirlo asi no necesita de la derivada de la funcion.   \n",
    "Cambiando el valor inicial de la funcion se observa e resultado."
   ]
  },
  {
   "cell_type": "code",
   "execution_count": null,
   "id": "a58e20f3-9832-46b9-89ec-a90ff5dfb31e",
   "metadata": {
    "tags": []
   },
   "outputs": [],
   "source": [
    "x0 = 0\n",
    "p2, iterations = newton(func, x0, full_output=True)\n",
    "print(\"Metodo de la secante:\")\n",
    "print(f\"Número de iteraciones realizadas: {iterations.iterations}\")\n",
    "print(f\"El valor de p2 es: {p2}\")"
   ]
  },
  {
   "cell_type": "markdown",
   "id": "e94a1bbe-ddbe-4fdf-b2bd-386a398fbdaf",
   "metadata": {},
   "source": [
    "### 2. Encuentre soluciones precisas dentro de $10^-4$ para los siguientes problemas. ###"
   ]
  },
  {
   "cell_type": "markdown",
   "id": "e7fe7575-3404-4a21-bec0-d333d1221a8e",
   "metadata": {},
   "source": [
    "**a. $x^3 -2x^2 -5=0, [1,4]$**"
   ]
  },
  {
   "cell_type": "code",
   "execution_count": 198,
   "id": "4889c92f-1ff7-47e8-807b-2fda8118fdaa",
   "metadata": {
    "tags": []
   },
   "outputs": [
    {
     "name": "stdout",
     "output_type": "stream",
     "text": [
      "Metodo de la secante:\n",
      "Número de iteraciones realizadas: 11\n",
      "El valor  es: 2.6906474480286136\n"
     ]
    }
   ],
   "source": [
    "import numpy as np\n",
    "from scipy.optimize import newton\n",
    "func = lambda x: x**3 - 2*x**2 - 5\n",
    "x0 = 1\n",
    "x1=4\n",
    "p2, iterations = newton(func, x0=x0, full_output=True,x1=4)\n",
    "print(\"Metodo de la secante:\")\n",
    "print(f\"Número de iteraciones realizadas: {iterations.iterations}\")\n",
    "print(f\"El valor  es: {p2}\")"
   ]
  },
  {
   "cell_type": "markdown",
   "id": "b655f63e-99f8-4e5a-9cb6-9ca7ecf19ff2",
   "metadata": {},
   "source": [
    "**b. $x^3 +3x^2 -1=0, [-3,-2]$**"
   ]
  },
  {
   "cell_type": "code",
   "execution_count": 200,
   "id": "20a21830-5eb0-4ae3-b939-9f12270ef45e",
   "metadata": {
    "tags": []
   },
   "outputs": [
    {
     "name": "stdout",
     "output_type": "stream",
     "text": [
      "Metodo de la secante:\n",
      "Número de iteraciones realizadas: 8\n",
      "El valor  es: -2.879385241571817\n"
     ]
    }
   ],
   "source": [
    "import numpy as np\n",
    "from scipy.optimize import newton\n",
    "func = lambda x: x**3 + 3*x**2 - 1\n",
    "x0 = -3\n",
    "x1=-2\n",
    "p2, iterations = newton(func, x0=x0, full_output=True,x1=x1)\n",
    "print(\"Metodo de la secante:\")\n",
    "print(f\"Número de iteraciones realizadas: {iterations.iterations}\")\n",
    "print(f\"El valor  es: {p2}\")"
   ]
  },
  {
   "cell_type": "markdown",
   "id": "614dd4a1-d33c-4a8f-83a4-104b57612266",
   "metadata": {},
   "source": [
    "**c. $x-cos(x)=0 , [0,\\pi/2 ]$**"
   ]
  },
  {
   "cell_type": "code",
   "execution_count": 204,
   "id": "9c672677-734c-4ea9-9720-04e2a84d42cb",
   "metadata": {
    "tags": []
   },
   "outputs": [
    {
     "name": "stdout",
     "output_type": "stream",
     "text": [
      "Metodo de la secante:\n",
      "Número de iteraciones realizadas: 6\n",
      "El valor  es: 0.7390851332151607\n"
     ]
    }
   ],
   "source": [
    "import numpy as np\n",
    "from scipy.optimize import newton\n",
    "func = lambda x: x-math.cos(x)\n",
    "x0 = 0\n",
    "x1=math.pi/2\n",
    "p2, iterations = newton(func, x0=x0, full_output=True,x1=x1)\n",
    "print(\"Metodo de la secante:\")\n",
    "print(f\"Número de iteraciones realizadas: {iterations.iterations}\")\n",
    "print(f\"El valor  es: {p2}\")"
   ]
  },
  {
   "cell_type": "markdown",
   "id": "82881f77-9fbe-4c1b-bfa3-b1342c756a1b",
   "metadata": {},
   "source": [
    "**d. $x-0.8-0.2sen(x)=0, [0,\\pi/2]$**"
   ]
  },
  {
   "cell_type": "code",
   "execution_count": 206,
   "id": "afd4be4c-95c6-4a43-9ec4-a8bfa1a2dd05",
   "metadata": {
    "tags": []
   },
   "outputs": [
    {
     "name": "stdout",
     "output_type": "stream",
     "text": [
      "Metodo de la secante:\n",
      "Número de iteraciones realizadas: 5\n",
      "El valor  es: 0.964333887695228\n"
     ]
    }
   ],
   "source": [
    "import numpy as np\n",
    "from scipy.optimize import newton\n",
    "func = lambda x: x-0.8-0.2*math.sin(x)\n",
    "x0 = 0\n",
    "x1=math.pi/2\n",
    "p2, iterations = newton(func, x0=x0, full_output=True,x1=x1)\n",
    "print(\"Metodo de la secante:\")\n",
    "print(f\"Número de iteraciones realizadas: {iterations.iterations}\")\n",
    "print(f\"El valor  es: {p2}\")"
   ]
  },
  {
   "cell_type": "markdown",
   "id": "35fb6259-f695-4d12-b623-e70ef9cff19c",
   "metadata": {},
   "source": [
    "### 3. Use los 2 métodos en esta sección para encontrar las soluciones dentro de $10^-5$ para los siguientes problemas ###"
   ]
  },
  {
   "cell_type": "markdown",
   "id": "45776f57-439d-4da0-99ff-a71c7952b966",
   "metadata": {},
   "source": [
    "**a. $3x-e^x =0$ para $1 <=x<=2$**"
   ]
  },
  {
   "cell_type": "code",
   "execution_count": 211,
   "id": "a691596c-ba77-45ae-b10d-f3e49d845795",
   "metadata": {
    "tags": []
   },
   "outputs": [],
   "source": [
    "import numpy as np\n",
    "from scipy.optimize import newton"
   ]
  },
  {
   "cell_type": "code",
   "execution_count": 212,
   "id": "5821354e-02a9-4dbf-a060-c189825a42c2",
   "metadata": {
    "tags": []
   },
   "outputs": [
    {
     "name": "stdout",
     "output_type": "stream",
     "text": [
      "Metodo de la secante:\n",
      "Número de iteraciones realizadas: 10\n",
      "El valor  es: 1.5121345516578424\n"
     ]
    }
   ],
   "source": [
    "func = lambda x: 3 * x - np.exp(x)\n",
    "x0 = 1\n",
    "x1=2\n",
    "p2, iterations = newton(func, x0=x0, full_output=True,x1=x1)\n",
    "print(\"Metodo de la secante:\")\n",
    "print(f\"Número de iteraciones realizadas: {iterations.iterations}\")\n",
    "print(f\"El valor  es: {p2}\")"
   ]
  },
  {
   "cell_type": "code",
   "execution_count": 213,
   "id": "a46bc004-e5dd-47c1-9419-b0b0bd475751",
   "metadata": {
    "tags": []
   },
   "outputs": [
    {
     "name": "stdout",
     "output_type": "stream",
     "text": [
      "Metodo de Newton:\n",
      "p = 1.512134625427124\n",
      "Iteraciones necesarias: 1\n"
     ]
    }
   ],
   "source": [
    "import sympy as sp\n",
    "x = sp.symbols('x')\n",
    "expr = 3 * x - sp.exp(x)\n",
    "derivative = sp.diff(expr, x)\n",
    "f = sp.lambdify(x, expr, 'numpy')\n",
    "df = sp.lambdify(x, derivative, 'numpy')\n",
    "\n",
    "def newton(p0, tol, max_iter):\n",
    "    p = p0\n",
    "    for i in range(max_iter):\n",
    "        p = p - f(p) / df(p)\n",
    "        if abs(f(p)) < tol:\n",
    "            return p, i\n",
    "    return p, max_iter\n",
    "p0 = 1.5 #punto medio del intervalo\n",
    "tolerancia = 1e-5\n",
    "max_iteraciones = 100\n",
    "\n",
    "p_newton, iter_newton = newton(p0, tolerancia, max_iteraciones)\n",
    "\n",
    "print(\"Metodo de Newton:\")\n",
    "print(\"p =\", p_newton)\n",
    "print(\"Iteraciones necesarias:\", iter_newton)"
   ]
  },
  {
   "cell_type": "markdown",
   "id": "a07b3f7d-3f5d-4cca-953d-e213031358cb",
   "metadata": {},
   "source": [
    "**b. $2x+3cos(x)-e^x$ para $1<=x<=2$**"
   ]
  },
  {
   "cell_type": "code",
   "execution_count": 218,
   "id": "04f6f233-a70d-4deb-b42f-6500afe66fde",
   "metadata": {
    "tags": []
   },
   "outputs": [
    {
     "ename": "TypeError",
     "evalue": "newton() got an unexpected keyword argument 'x0'",
     "output_type": "error",
     "traceback": [
      "\u001b[1;31m---------------------------------------------------------------------------\u001b[0m",
      "\u001b[1;31mTypeError\u001b[0m                                 Traceback (most recent call last)",
      "Cell \u001b[1;32mIn[218], line 4\u001b[0m\n\u001b[0;32m      2\u001b[0m x0 \u001b[38;5;241m=\u001b[39m \u001b[38;5;241m1\u001b[39m\n\u001b[0;32m      3\u001b[0m x1\u001b[38;5;241m=\u001b[39m\u001b[38;5;241m2\u001b[39m\n\u001b[1;32m----> 4\u001b[0m p2, iterations \u001b[38;5;241m=\u001b[39m newton(func, x0\u001b[38;5;241m=\u001b[39mx0, full_output\u001b[38;5;241m=\u001b[39m\u001b[38;5;28;01mTrue\u001b[39;00m,x1\u001b[38;5;241m=\u001b[39mx1)\n\u001b[0;32m      5\u001b[0m \u001b[38;5;28mprint\u001b[39m(\u001b[38;5;124m\"\u001b[39m\u001b[38;5;124mMetodo de la secante:\u001b[39m\u001b[38;5;124m\"\u001b[39m)\n\u001b[0;32m      6\u001b[0m \u001b[38;5;28mprint\u001b[39m(\u001b[38;5;124mf\u001b[39m\u001b[38;5;124m\"\u001b[39m\u001b[38;5;124mNúmero de iteraciones realizadas: \u001b[39m\u001b[38;5;132;01m{\u001b[39;00miterations\u001b[38;5;241m.\u001b[39miterations\u001b[38;5;132;01m}\u001b[39;00m\u001b[38;5;124m\"\u001b[39m)\n",
      "\u001b[1;31mTypeError\u001b[0m: newton() got an unexpected keyword argument 'x0'"
     ]
    }
   ],
   "source": [
    "func = lambda x:2*x+3*np.cos(x)-np.exp(x)\n",
    "x0 = 1\n",
    "x1=2\n",
    "p2, iterations = newton(func, x0=x0, full_output=True,x1=x1)\n",
    "print(\"Metodo de la secante:\")\n",
    "print(f\"Número de iteraciones realizadas: {iterations.iterations}\")\n",
    "print(f\"El valor  es: {p2}\")"
   ]
  },
  {
   "cell_type": "code",
   "execution_count": null,
   "id": "02a95864-4bd8-4901-84ce-15c1d0c33db3",
   "metadata": {
    "tags": []
   },
   "outputs": [],
   "source": [
    "import sympy as sp\n",
    "x = sp.symbols('x')\n",
    "expr = 2*x+3*sp.cos(x)-sp.exp(x)\n",
    "derivative = sp.diff(expr, x)\n",
    "f = sp.lambdify(x, expr, 'numpy')\n",
    "df = sp.lambdify(x, derivative, 'numpy')\n",
    "\n",
    "def newton(p0, tol, max_iter):\n",
    "    p = p0\n",
    "    for i in range(max_iter):\n",
    "        p = p - f(p) / df(p)\n",
    "        if abs(f(p)) < tol:\n",
    "            return p, i\n",
    "    return p, max_iter\n",
    "p0 = 1.5 #punto medio del intervalo\n",
    "tolerancia = 1e-5\n",
    "max_iteraciones = 100\n",
    "\n",
    "p_newton, iter_newton = newton(p0, tolerancia, max_iteraciones)\n",
    "\n",
    "print(\"Metodo de Newton:\")\n",
    "print(\"p =\", p_newton)\n",
    "print(\"Iteraciones necesarias:\", iter_newton)"
   ]
  },
  {
   "cell_type": "markdown",
   "id": "b60fa13c-0009-456c-b6e9-6335a5d2a8aa",
   "metadata": {},
   "source": [
    "### 4. El polinomio de cuarto grado $f(x)=230x^4+18x^3+9x^2-221x-9$   tiene dos ceros reales, uno en $[−1,0]$ y el otro en $[0,]$. Intente aproximar estos ceros dentro de $10^-6$ con ###"
   ]
  },
  {
   "cell_type": "markdown",
   "id": "c456aec2-93ff-4eca-b03d-aabacf02f271",
   "metadata": {},
   "source": [
    "**a. El método de la secante (use los extremos como las estimaciones iniciales)**"
   ]
  },
  {
   "cell_type": "code",
   "execution_count": 220,
   "id": "35303de2-b65e-492f-83dd-04fb9bc04c70",
   "metadata": {
    "tags": []
   },
   "outputs": [
    {
     "name": "stdout",
     "output_type": "stream",
     "text": [
      "Intervalo [-1,0]:\n",
      "Número de iteraciones realizadas: 5\n",
      "El valor  es: -0.04065928831575775\n",
      "Intervalo [0,]:\n",
      "Número de iteraciones realizadas: 4\n",
      "El valor  es: -0.04065928831575887\n"
     ]
    }
   ],
   "source": [
    "import numpy as np\n",
    "from scipy.optimize import newton\n",
    "func = lambda x: 230*x**4+18*x**3+9*x**2-221*x-9\n",
    "x0 = -1\n",
    "x1=0\n",
    "p, iterations = newton(func, x0=x0, full_output=True,x1=x1)\n",
    "print(\"Intervalo [-1,0]:\")\n",
    "print(f\"Número de iteraciones realizadas: {iterations.iterations}\")\n",
    "print(f\"El valor  es: {p}\")\n",
    "x0=0\n",
    "p, iterations = newton(func, x0=x0, full_output=True)\n",
    "print(\"Intervalo [0,]:\")\n",
    "print(f\"Número de iteraciones realizadas: {iterations.iterations}\")\n",
    "print(f\"El valor  es: {p}\")"
   ]
  },
  {
   "cell_type": "markdown",
   "id": "7608475a-cb34-4721-9a0d-dacc55c30bd3",
   "metadata": {},
   "source": [
    "**b. El método de Newton (use el punto medio como estimación inicial)**"
   ]
  },
  {
   "cell_type": "code",
   "execution_count": 223,
   "id": "85e52c16-4d42-4499-a762-f652c265207c",
   "metadata": {
    "tags": []
   },
   "outputs": [
    {
     "name": "stdout",
     "output_type": "stream",
     "text": [
      "Intervalo [-1,0]:\n",
      "p = -0.04065928831575899\n",
      "Iteraciones necesarias: 3\n",
      "Intervalo [0,]:\n",
      "p = -0.04065928834533494\n",
      "Iteraciones necesarias: 4\n"
     ]
    }
   ],
   "source": [
    "import sympy as sp\n",
    "x = sp.symbols('x')\n",
    "expr = 230*x**4 + 18*x**3 + 9*x**2 - 221*x - 9\n",
    "derivative = sp.diff(expr, x)\n",
    "f = sp.lambdify(x, expr, 'numpy')\n",
    "df = sp.lambdify(x, derivative, 'numpy')\n",
    "\n",
    "def newton(p0, tol, max_iter):\n",
    "    p = p0\n",
    "    for i in range(max_iter):\n",
    "        p = p - f(p) / df(p)\n",
    "        if abs(f(p)) < tol:\n",
    "            return p, i\n",
    "    return p, max_iter\n",
    "\n",
    "p0 = -0.5  # Punto medio del intervalo \n",
    "tolerancia = 1e-6\n",
    "max_iteraciones = 10\n",
    "\n",
    "p_newton, iter_newton = newton(p0, tolerancia, max_iteraciones)\n",
    "\n",
    "print(\"Intervalo [-1,0]:\")\n",
    "print(\"p =\", p_newton)\n",
    "print(\"Iteraciones necesarias:\", iter_newton)\n",
    "p0 = 0.5  # Punto medio del intervalo\n",
    "\n",
    "p_newton, iter_newton = newton(p0, tolerancia, max_iteraciones)\n",
    "print(\"Intervalo [0,]:\")\n",
    "print(\"p =\", p_newton)\n",
    "print(\"Iteraciones necesarias:\", iter_newton)"
   ]
  },
  {
   "cell_type": "markdown",
   "id": "ac93e3a1-6b02-4a0f-a683-e6b97477c142",
   "metadata": {},
   "source": [
    "### 5.La función $𝑓(𝑥) = tan 𝜋 𝑥 − 6$ tiene cero en $(1⁄𝜋)arcotangente 6 ≈ 0.447431543$. Sea $p_0 = 0 y 𝑝_1 = 0.48$ y use 10 iteraciones en cada uno de los siguientes métodos para aproximar esta raíz. ¿Cuál método es más eficaz y por qué? ###"
   ]
  },
  {
   "cell_type": "markdown",
   "id": "9fd2ce0c-9c40-4542-a767-f075a61eb64e",
   "metadata": {},
   "source": [
    "**a. método de bisección**"
   ]
  },
  {
   "cell_type": "code",
   "execution_count": 227,
   "id": "33395ef2-d660-41c1-ac58-f298da55a6b0",
   "metadata": {
    "tags": []
   },
   "outputs": [
    {
     "name": "stdout",
     "output_type": "stream",
     "text": [
      "Número de iteraciones realizadas: 10\n",
      "El valor aproximado de la raíz es: 0.44765625\n"
     ]
    }
   ],
   "source": [
    "import numpy as np\n",
    "def f(x):\n",
    "    return np.tan(np.pi * x) - 6\n",
    "def bisection(a, b, tol, max_iter):\n",
    "    if f(a) * f(b) >= 0:\n",
    "        raise ValueError(\"f(a) y f(b) deben tener signos opuestos\")\n",
    "    \n",
    "    for i in range(max_iter):\n",
    "        c = (a + b) / 2\n",
    "        if f(c) == 0 or (b - a) / 2 < tol:\n",
    "            return c, i\n",
    "        if f(a) * f(c) < 0:\n",
    "            b = c\n",
    "        else:\n",
    "            a = c\n",
    "    return c, max_iter\n",
    "a = 0\n",
    "b = 0.48\n",
    "tolerancia = 1e-6\n",
    "max_iteraciones = 10\n",
    "p_bisection, iter_bisection = bisection(a, b, tolerancia, max_iteraciones)\n",
    "print(\"Número de iteraciones realizadas:\", iter_bisection)\n",
    "print(\"El valor aproximado de la raíz es:\", p_bisection)\n"
   ]
  },
  {
   "cell_type": "markdown",
   "id": "316a8e03-8919-463d-98a7-2ebeb60ed23b",
   "metadata": {},
   "source": [
    "**b. método de Newton**"
   ]
  },
  {
   "cell_type": "code",
   "execution_count": 230,
   "id": "507967ed-024d-4ec8-9878-0bb643c49906",
   "metadata": {
    "tags": []
   },
   "outputs": [
    {
     "name": "stdout",
     "output_type": "stream",
     "text": [
      "Método de Newton:\n",
      "Número de iteraciones realizadas: 10\n",
      "El valor aproximado de la raíz es: 0.447431543288747\n"
     ]
    }
   ],
   "source": [
    "import numpy as np\n",
    "import sympy as sp\n",
    "\n",
    "# Definir la variable y la función\n",
    "x = sp.symbols('x')\n",
    "expr = sp.tan(np.pi * x) - 6\n",
    "derivative = sp.diff(expr, x)\n",
    "\n",
    "# Convertir las expresiones a funciones que pueden ser evaluadas numéricamente\n",
    "f = sp.lambdify(x, expr, 'numpy')\n",
    "df = sp.lambdify(x, derivative, 'numpy')\n",
    "\n",
    "def newton(p0, max_iter):\n",
    "    p = p0\n",
    "    for i in range(max_iter):\n",
    "        p = p - f(p) / df(p)\n",
    "    return p, max_iter\n",
    "\n",
    "# Parámetros iniciales\n",
    "p0 = 0.48  # Punto inicial\n",
    "max_iteraciones = 10\n",
    "\n",
    "# Ejecutar el método de Newton\n",
    "p_newton, iter_newton = newton(p0, max_iteraciones)\n",
    "\n",
    "print(\"Método de Newton:\")\n",
    "print(\"Número de iteraciones realizadas:\", iter_newton)\n",
    "print(\"El valor aproximado de la raíz es:\", p_newton)\n"
   ]
  },
  {
   "cell_type": "markdown",
   "id": "f5d35a4d-40c1-45ab-b39f-f000ea8d798c",
   "metadata": {},
   "source": [
    "**c.método de la secante**"
   ]
  },
  {
   "cell_type": "code",
   "execution_count": 233,
   "id": "76215a31-cdde-481c-9c87-0244594b2d34",
   "metadata": {
    "tags": []
   },
   "outputs": [
    {
     "data": {
      "text/plain": [
       "(0.44765625, 0.44743154328874657, -2989.9400375314453)"
      ]
     },
     "execution_count": 233,
     "metadata": {},
     "output_type": "execute_result"
    }
   ],
   "source": [
    "import numpy as np\n",
    "\n",
    "# Definir la función y su derivada\n",
    "def f(x):\n",
    "    return np.tan(np.pi * x) - 6\n",
    "\n",
    "def f_prime(x):\n",
    "    return np.pi * (1 / np.cos(np.pi * x))**2\n",
    "\n",
    "# Parámetros iniciales para cada método\n",
    "a, b = 0, 0.48  # Para la bisección\n",
    "p0_newton = 0.48  # Para Newton\n",
    "p0_secant = 0\n",
    "p1_secant = 0.48  # Para la secante\n",
    "\n",
    "# Bisección\n",
    "def bisection(a, b, n):\n",
    "    for i in range(n):\n",
    "        c = (a + b) / 2\n",
    "        if f(a) * f(c) < 0:\n",
    "            b = c\n",
    "        else:\n",
    "            a = c\n",
    "    return c\n",
    "\n",
    "# Newton\n",
    "def newton(p0, n):\n",
    "    for i in range(n):\n",
    "        p0 = p0 - f(p0) / f_prime(p0)\n",
    "    return p0\n",
    "\n",
    "# Secante\n",
    "def secant(p0, p1, n):\n",
    "    for i in range(n):\n",
    "        p_temp = p1 - f(p1) * (p1 - p0) / (f(p1) - f(p0))\n",
    "        p0 = p1\n",
    "        p1 = p_temp\n",
    "    return p1\n",
    "\n",
    "# Realizar las iteraciones\n",
    "n_iterations = 10\n",
    "root_bisection = bisection(a, b, n_iterations)\n",
    "root_newton = newton(p0_newton, n_iterations)\n",
    "root_secant = secant(p0_secant, p1_secant, n_iterations)\n",
    "\n",
    "root_bisection, root_newton, root_secant\n"
   ]
  },
  {
   "cell_type": "code",
   "execution_count": 235,
   "id": "cef0d68c-9645-4176-959a-af106ecf3383",
   "metadata": {
    "tags": []
   },
   "outputs": [
    {
     "name": "stdout",
     "output_type": "stream",
     "text": [
      "Número de iteraciones realizadas: 10\n",
      "El valor aproximado de la raíz es: -2989.9400375314453\n"
     ]
    }
   ],
   "source": [
    "import numpy as np\n",
    "func = lambda x: np.tan(np.pi * x) - 6\n",
    "x0 = 0\n",
    "x1 = 0.48\n",
    "n_iterations = 10\n",
    "\n",
    "for _ in range(n_iterations):\n",
    "    f_x0 = func(x0)\n",
    "    f_x1 = func(x1)\n",
    "    if f_x1 - f_x0 == 0:\n",
    "        break  # Evitar división por cero\n",
    "    x_temp = x1 - f_x1 * (x1 - x0) / (f_x1 - f_x0)\n",
    "    x0 = x1\n",
    "    x1 = x_temp\n",
    "p = x1\n",
    "print(f\"Número de iteraciones realizadas: {n_iterations}\")\n",
    "print(f\"El valor aproximado de la raíz es: {p}\")\n"
   ]
  },
  {
   "cell_type": "markdown",
   "id": "a26a4a6e-8377-406c-815a-1a2ba5025645",
   "metadata": {
    "tags": []
   },
   "source": [
    "### 6. La función descrita por $𝑓(x) = ln(x^2 + 1) − e^(0.4x) cos(\\pi x)$ tiene un número infinito de ceros ###"
   ]
  },
  {
   "cell_type": "markdown",
   "id": "750181ea-8ea9-4207-9935-f50d4de7e480",
   "metadata": {},
   "source": [
    "**a.Determine, dentro de $10^-6$,el único cero negativo**"
   ]
  },
  {
   "cell_type": "code",
   "execution_count": 239,
   "id": "42821ee4-a7bf-4541-91a7-bde1d8f37b09",
   "metadata": {
    "tags": []
   },
   "outputs": [
    {
     "name": "stdout",
     "output_type": "stream",
     "text": [
      "Único cero negativo (dentro de 10^-6):\n",
      "p = -0.43414310019246605, Iteraciones necesarias = 3\n"
     ]
    }
   ],
   "source": [
    "import numpy as np\n",
    "import sympy as sp\n",
    "import matplotlib.pyplot as plt\n",
    "x = sp.symbols('x')\n",
    "expr = sp.ln(x**2 + 1) - sp.exp(0.4 * x) * sp.cos(sp.pi * x)\n",
    "f = sp.lambdify(x, expr, 'numpy')\n",
    "df = sp.lambdify(x, sp.diff(expr, x), 'numpy')\n",
    "def newton(p0, tol, max_iter):\n",
    "    p = p0\n",
    "    for i in range(max_iter):\n",
    "        p = p - f(p) / df(p)\n",
    "        if abs(f(p)) < tol:\n",
    "            return p, i\n",
    "    return p, max_iter\n",
    "p0_neg =-0.1  # Punto inicial negativo\n",
    "tolerancia = 1e-6\n",
    "max_iteraciones = 100\n",
    "\n",
    "p_neg, iter_neg = newton(p0_neg, tolerancia, max_iteraciones)\n",
    "\n",
    "print(\"Único cero negativo (dentro de 10^-6):\")\n",
    "print(f\"p = {p_neg}, Iteraciones necesarias = {iter_neg}\")"
   ]
  },
  {
   "cell_type": "markdown",
   "id": "6021f251-99af-48a0-9c76-1926dbe73c1b",
   "metadata": {},
   "source": [
    "**b.Determine, dentro de $10^-6$, los cuatro ceros positivos más pequeños.**"
   ]
  },
  {
   "cell_type": "code",
   "execution_count": 242,
   "id": "9f84a2d6-b84e-4f8b-933e-bde93d21ff40",
   "metadata": {
    "tags": []
   },
   "outputs": [
    {
     "name": "stdout",
     "output_type": "stream",
     "text": [
      "Cuatro ceros positivos más pequeños (dentro de 10^-6):\n",
      "Para p0=0.5,Cero 1: p = 0.45065674789059323, Iteraciones necesarias = 2\n",
      "Para p0=1.5,Cero 2: p = 1.7447380533683496, Iteraciones necesarias = 2\n",
      "Para p0=2.5,Cero 3: p = 2.238319796456584, Iteraciones necesarias = 3\n",
      "Para p0=3.5,Cero 4: p = 3.709041201357361, Iteraciones necesarias = 2\n"
     ]
    }
   ],
   "source": [
    "p0s_pos = [0.5, 1.5, 2.5, 3.5] \n",
    "ceros_positivos = []\n",
    "\n",
    "for p0 in p0s_pos:\n",
    "    p_pos, iter_pos = newton(p0, tolerancia, max_iteraciones)\n",
    "    ceros_positivos.append((p_pos, iter_pos))\n",
    "\n",
    "print(\"Cuatro ceros positivos más pequeños (dentro de 10^-6):\")\n",
    "for i, (p, iter_pos) in enumerate(ceros_positivos, start=1):\n",
    "    print(f\"Para p0={p0s_pos[i-1]},Cero {i}: p = {p}, Iteraciones necesarias = {iter_pos}\")"
   ]
  },
  {
   "cell_type": "markdown",
   "id": "1e424f82-16a7-4f31-9d36-6b3af4c596f6",
   "metadata": {},
   "source": [
    "**c. Determine una aproximación inicial razonable para encontrar el enésimo cero positivo más pequeño de 𝑓.**"
   ]
  },
  {
   "cell_type": "code",
   "execution_count": 245,
   "id": "c64f1f51-5172-473e-b30d-a1e96992eac6",
   "metadata": {
    "tags": []
   },
   "outputs": [
    {
     "data": {
      "image/png": "[encoded data removed]",
      "text/plain": [
       "<Figure size 640x480 with 1 Axes>"
      ]
     },
     "metadata": {},
     "output_type": "display_data"
    }
   ],
   "source": [
    "# Graficar la función para ver la distribución de los ceros\n",
    "x_vals = np.linspace(-5, 5, 400)\n",
    "y_vals = f(x_vals)\n",
    "plt.plot(x_vals, y_vals, label='f(x)')\n",
    "plt.axhline(0, color='black',linewidth=0.5)\n",
    "plt.axvline(0, color='black',linewidth=0.5)\n",
    "plt.grid(color = 'gray', linestyle = '--', linewidth = 0.5)\n",
    "plt.xlabel('x')\n",
    "plt.ylabel('f(x)')\n",
    "plt.title('Gráfica de f(x)')\n",
    "plt.legend()\n",
    "plt.show()\n"
   ]
  },
  {
   "cell_type": "markdown",
   "id": "962b31c0-7b3f-4357-9390-bf6bad0a4514",
   "metadata": {
    "tags": []
   },
   "source": [
    "**Respuesta:**  \n",
    "Observando la grafica podemos concluir que la aproximación inicial $n− 0.5$ es bastante razonable."
   ]
  },
  {
   "cell_type": "markdown",
   "id": "f59eae4d-e546-41d3-8650-1a015beb92c6",
   "metadata": {},
   "source": [
    "**d. Use la parte c) para determinar, dentro de $10^-6$, el vigesimoquinto cero positivo más pequeño de 𝑓.**"
   ]
  },
  {
   "cell_type": "code",
   "execution_count": 249,
   "id": "4320036a-db7d-4370-a8fd-fed3bec7fa1d",
   "metadata": {
    "tags": []
   },
   "outputs": [
    {
     "name": "stdout",
     "output_type": "stream",
     "text": [
      "Vigesimoquinto cero positivo más pequeño (dentro de 10^-6):\n",
      "p = 24.499887047445956, Iteraciones necesarias = 1\n"
     ]
    }
   ],
   "source": [
    "n = 25\n",
    "p0_n = n - 0.5 \n",
    "p_n, iter_n = newton(p0_n, tolerancia, max_iteraciones)\n",
    "print(f\"Vigesimoquinto cero positivo más pequeño (dentro de 10^-6):\")\n",
    "print(f\"p = {p_n}, Iteraciones necesarias = {iter_n}\")"
   ]
  },
  {
   "cell_type": "markdown",
   "id": "3857d1c6-d98a-4e86-8a1e-baf212ed55e1",
   "metadata": {},
   "source": [
    "### 7. La función $𝑓(𝑥) = 𝑥^(1/3)$ tiene raíz en 𝑥 = 0.Usando el punto de inicio de 𝑥 = 1 y $𝑝_0 = 5$, $𝑝_1 = 0.5$ para el método de secante, compare los resultados de los métodos de la secante y de Newton."
   ]
  },
  {
   "cell_type": "code",
   "execution_count": 1,
   "id": "aada1ade-7a33-460b-9cdb-13cedd7b405a",
   "metadata": {
    "tags": []
   },
   "outputs": [
    {
     "name": "stdout",
     "output_type": "stream",
     "text": [
      "El método de la secante no converge después de 100 iteraciones.\n",
      "El método de Newton no converge después de 100 iteraciones.\n",
      "Resultado del método de la secante: None\n",
      "Resultado del método de Newton: None\n"
     ]
    },
    {
     "data": {
      "image/png": "[encoded data removed]",
      "text/plain": [
       "<Figure size 800x600 with 1 Axes>"
      ]
     },
     "metadata": {},
     "output_type": "display_data"
    }
   ],
   "source": [
    "import numpy as np\n",
    "import matplotlib.pyplot as plt\n",
    "\n",
    "def f(x):\n",
    "    return x**(1/3)\n",
    "\n",
    "def df(x):\n",
    "    return (1/3)*x**(-2/3)\n",
    "\n",
    "def secant_method(p0, p1, tol, max_iter):\n",
    "    i = 2\n",
    "    q0 = f(p0)\n",
    "    q1 = f(p1)\n",
    "    while i <= max_iter:\n",
    "        p = p1 - q1 * (p1 - p0) / (q1 - q0)\n",
    "        if abs(p - p1) < tol:\n",
    "            return p\n",
    "        i += 1\n",
    "        p0 = p1\n",
    "        q0 = q1\n",
    "        p1 = p\n",
    "        q1 = f(p)\n",
    "    print(\"El método de la secante no converge después de\", max_iter, \"iteraciones.\")\n",
    "    return None\n",
    "\n",
    "def newton_method(p0, tol, max_iter):\n",
    "    i = 1\n",
    "    while i <= max_iter:\n",
    "        p = p0 - f(p0) / df(p0)\n",
    "        if abs(p - p0) < tol:\n",
    "            return p\n",
    "        i += 1\n",
    "        p0 = p\n",
    "    print(\"El método de Newton no converge después de\", max_iter, \"iteraciones.\")\n",
    "    return None\n",
    "\n",
    "# Nuevos parámetros\n",
    "p0_secant = 1\n",
    "p1_secant = 5\n",
    "p0_newton = 1.0\n",
    "tol = 1e-5\n",
    "max_iter = 100\n",
    "\n",
    "x_values = np.linspace(0.01, 2, 400)\n",
    "y_values = f(x_values)\n",
    "\n",
    "root_secant = secant_method(p0_secant, p1_secant, tol, max_iter)\n",
    "root_newton = newton_method(p0_newton, tol, max_iter)\n",
    "\n",
    "print(\"Resultado del método de la secante:\", root_secant)\n",
    "print(\"Resultado del método de Newton:\", root_newton)\n",
    "plt.figure(figsize=(8, 6))\n",
    "plt.plot(x_values, y_values, label='f(x) = x^(1/3)')\n",
    "plt.xlabel('x')\n",
    "plt.ylabel('f(x)')\n",
    "plt.title('Gráfico de la función')\n",
    "plt.axhline(0, color='black',linewidth=0.5)\n",
    "plt.axvline(0, color='black',linewidth=0.5)\n",
    "plt.grid(color = 'gray', linestyle = '--', linewidth = 0.5)\n",
    "plt.legend()\n",
    "plt.show()\n"
   ]
  }
 ],
 "metadata": {
  "kernelspec": {
   "display_name": "Python 3 (ipykernel)",
   "language": "python",
   "name": "python3"
  },
  "language_info": {
   "codemirror_mode": {
    "name": "ipython",
    "version": 3
   },
   "file_extension": ".py",
   "mimetype": "text/x-python",
   "name": "python",
   "nbconvert_exporter": "python",
   "pygments_lexer": "ipython3",
   "version": "3.11.7"
  }
 },
 "nbformat": 4,
 "nbformat_minor": 5
}
