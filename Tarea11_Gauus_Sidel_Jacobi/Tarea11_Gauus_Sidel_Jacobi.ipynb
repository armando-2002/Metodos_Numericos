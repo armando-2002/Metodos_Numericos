{
 "cells": [
  {
   "cell_type": "raw",
   "id": "24aba29c-1896-48d0-989d-0d78394976e4",
   "metadata": {},
   "source": [
    "---\n",
    "title: \"Métodos Numericos\"\n",
    "subtitle: \"Gauss-Jacobi y Gauss-Seidel\"\n",
    "author: \"José Sarango\"\n",
    "lang: es\n",
    "format: \n",
    "  pdf:\n",
    "    toc: true\n",
    "    toc-title: \"Tabla de Contenidos\"  \n",
    "execute:\n",
    "  echo: true\n",
    "  error: false\n",
    "  warning: false\n",
    "jupyter: python3\n",
    "---"
   ]
  },
  {
   "cell_type": "markdown",
   "id": "0cdf43da-7196-44a0-bbdd-e2017416eca3",
   "metadata": {},
   "source": [
    "# Conjunto de ejercicios"
   ]
  },
  {
   "cell_type": "markdown",
   "id": "0af38787-6de9-41f5-8c05-93b2b13e360d",
   "metadata": {},
   "source": [
    "## 1. Encuentre las primeras dos iteraciones del metodo de Jacobi para los siguientes sistemas lineales,por medio de $x^{0}=0$:"
   ]
  },
  {
   "cell_type": "code",
   "execution_count": 422,
   "id": "07595926-e08c-4be9-bd42-967a5053bfeb",
   "metadata": {},
   "outputs": [],
   "source": [
    "import numpy as np\n",
    "def jacobi_method(A, b, x0, iterations):\n",
    "    n = len(b)\n",
    "    x = x0.copy()\n",
    "    x_new = np.zeros_like(x)\n",
    "    iter_results = [] \n",
    "    for k in range(iterations):\n",
    "        for i in range(n):\n",
    "            sum_ = sum(A[i][j] * x[j] for j in range(n) if j != i)        \n",
    "            x_new[i] = (b[i] - sum_) / A[i][i]      \n",
    "        iter_results.append(x_new.copy())\n",
    "        x = x_new.copy()\n",
    "    \n",
    "    return iter_results"
   ]
  },
  {
   "cell_type": "markdown",
   "id": "fb9302af-605a-494e-b350-3b0b383b1d75",
   "metadata": {},
   "source": [
    "### a)  \n",
    "$3x_1-x_2+x_3=1$,  \n",
    "$3x_1+6x_2+2x_3=0$,  \n",
    "$3x_1+3x_2+7x_3=4$."
   ]
  },
  {
   "cell_type": "code",
   "execution_count": 425,
   "id": "b95ede06-304f-4358-9143-551b1295ed6f",
   "metadata": {},
   "outputs": [
    {
     "name": "stdout",
     "output_type": "stream",
     "text": [
      "Iteración 1: [0.33333333 0.         0.57142857]\n",
      "Iteración 2: [ 0.14285714 -0.35714286  0.42857143]\n"
     ]
    }
   ],
   "source": [
    "A = np.array([[3, -1, 1],[3, 6, 2],[3, 3, 7]])\n",
    "b = np.array([1, 0, 4])\n",
    "x0 = np.zeros(len(b))\n",
    "iterations = 2\n",
    "results = jacobi_method(A, b, x0, iterations)\n",
    "for i, res in enumerate(results):\n",
    "    print(f\"Iteración {i+1}: {res}\")"
   ]
  },
  {
   "cell_type": "markdown",
   "id": "6fc419af-ac79-4b49-93d7-48da5cc9ec87",
   "metadata": {},
   "source": [
    "### b)  \n",
    "$10x_1-x_2=9$,  \n",
    "$-x_1+10x_2-2x_3=7$,  \n",
    "$-2x_2+10x_3=6$."
   ]
  },
  {
   "cell_type": "code",
   "execution_count": 428,
   "id": "b595f68d-3f56-4714-83c6-eafefbbf51c4",
   "metadata": {},
   "outputs": [
    {
     "name": "stdout",
     "output_type": "stream",
     "text": [
      "Iteración 1: [0.9 0.7 0.6]\n",
      "Iteración 2: [0.97 0.91 0.74]\n"
     ]
    }
   ],
   "source": [
    "A = np.array([[10, -1, 0],[-1, 10, -2],[0, -2, 10]])\n",
    "b = np.array([9, 7, 6])\n",
    "x0 = np.zeros(len(b))\n",
    "iterations = 2\n",
    "results = jacobi_method(A, b, x0, iterations)\n",
    "for i, res in enumerate(results):\n",
    "    print(f\"Iteración {i+1}: {res}\")"
   ]
  },
  {
   "cell_type": "markdown",
   "id": "5b62d355-7b0e-4890-81d0-fc941abe94e6",
   "metadata": {},
   "source": [
    "### c)  \n",
    "$10x_1+5x_2=6$,  \n",
    "$5x_1+10x_2-4x_3=25$,  \n",
    "$-4x_2+8x_3-x_4=-11$,  \n",
    "$-x_3+5x_4=-11$."
   ]
  },
  {
   "cell_type": "code",
   "execution_count": 431,
   "id": "80d0e30b-334b-4fc0-91ea-fe1d937e6780",
   "metadata": {},
   "outputs": [
    {
     "name": "stdout",
     "output_type": "stream",
     "text": [
      "Iteración 1: [ 0.6    2.5   -1.375 -2.2  ]\n",
      "Iteración 2: [-0.65   1.65  -0.4   -2.475]\n"
     ]
    }
   ],
   "source": [
    "A = np.array([[10, 5, 0,0],[5, 10, -4,0],[0, -4, 8,-1],[0,0,-1,5]])\n",
    "b = np.array([6, 25, -11,-11])\n",
    "x0 = np.zeros(len(b))\n",
    "iterations = 2\n",
    "results = jacobi_method(A, b, x0, iterations)\n",
    "for i, res in enumerate(results):\n",
    "    print(f\"Iteración {i+1}: {res}\")"
   ]
  },
  {
   "cell_type": "markdown",
   "id": "d412207f-a122-4ce7-bf25-420216d13f19",
   "metadata": {},
   "source": [
    "### d)   \n",
    "$4x_1+x_2+x_3+x_5=6$,  \n",
    "$-x_1-3x_2+x_3+x_4=6$,  \n",
    "$2x_1+x_2+5x_3-x_4-x_5=6$,  \n",
    "$-x_1-x_2-x_3+4x_4=6$,  \n",
    "$2x_2-x_3+x_4+4x_5=6$."
   ]
  },
  {
   "cell_type": "code",
   "execution_count": 434,
   "id": "0346ba73-ee45-4a71-8146-19e53095ad18",
   "metadata": {},
   "outputs": [
    {
     "name": "stdout",
     "output_type": "stream",
     "text": [
      "Iteración 1: [ 1.5 -2.   1.2  1.5  1.5]\n",
      "Iteración 2: [ 1.325 -1.6    1.6    1.675  2.425]\n"
     ]
    }
   ],
   "source": [
    "A = np.array([[4, 1, 1,0,1],[-1, -3,1, 1,0],[2,1, 5, -1,-1],[-1,-1,-1,4,0],[0,2,-1,1,4]])\n",
    "b = np.array([6,6, 6,6,6])\n",
    "x0 = np.zeros(len(b))\n",
    "iterations = 2\n",
    "results = jacobi_method(A, b, x0, iterations)\n",
    "for i, res in enumerate(results):\n",
    "    print(f\"Iteración {i+1}: {res}\")"
   ]
  },
  {
   "cell_type": "markdown",
   "id": "1552c5fc-60ea-428b-9084-45a906b69cff",
   "metadata": {},
   "source": [
    "## 2. Repita el ejercicio 1 usando el metodo de Gauus-Siedel."
   ]
  },
  {
   "cell_type": "code",
   "execution_count": 437,
   "id": "f070c94e-82f8-4c34-bde3-d3c797cf85c6",
   "metadata": {},
   "outputs": [],
   "source": [
    "import numpy as np\n",
    "def gauss_seidel_method(A, b, x0, iterations):\n",
    "    n = len(b)\n",
    "    x = x0.copy()\n",
    "    iter_results = []\n",
    "    for k in range(iterations):\n",
    "        for i in range(n):\n",
    "            sum_ = sum(A[i][j] * x[j] for j in range(n) if j != i)\n",
    "            x[i] = (b[i] - sum_) / A[i][i]\n",
    "        iter_results.append(x.copy())\n",
    "    return iter_results"
   ]
  },
  {
   "cell_type": "code",
   "execution_count": 439,
   "id": "bd4c6426-73be-4b02-91a5-8d27900ea38d",
   "metadata": {},
   "outputs": [
    {
     "name": "stdout",
     "output_type": "stream",
     "text": [
      "Sistema a:\n",
      "  Iteración 1: [ 0.33333333 -0.16666667  0.5       ]\n",
      "  Iteración 2: [ 0.11111111 -0.22222222  0.61904762]\n",
      "\n",
      "\n",
      "Sistema b:\n",
      "  Iteración 1: [0.9   0.79  0.758]\n",
      "  Iteración 2: [0.979  0.9495 0.7899]\n",
      "\n",
      "\n",
      "Sistema c:\n",
      "  Iteración 1: [ 0.6    2.2   -0.275 -2.255]\n",
      "  Iteración 2: [-0.5       2.64     -0.336875 -2.267375]\n",
      "\n",
      "\n",
      "Sistema d:\n",
      "  Iteración 1: [ 1.5     -2.5      1.1      1.525    2.64375]\n",
      "  Iteración 2: [ 1.1890625  -1.52135417  1.86239583  1.88252604  2.25564453]\n",
      "\n",
      "\n"
     ]
    }
   ],
   "source": [
    "# Sistema de ecuaciones \"a\"\n",
    "A_a = np.array([[3, -1, 1],[3, 6, 2],[3, 3, 7]])\n",
    "b_a = np.array([1, 0, 4])\n",
    "# Sistema de ecuaciones \"b\"\n",
    "A_b = np.array([[10, -1, 0],[-1, 10, -2],[0, -2, 10]])\n",
    "b_b = np.array([9, 7, 6])\n",
    "# Sistema de ecuaciones \"c\"\n",
    "A_c = np.array([[10, 5, 0,0],[5, 10, -4,0],[0, -4, 8,-1],[0,0,-1,5]])\n",
    "b_c = np.array([6, 25, -11,-11])\n",
    "# Sistema de ecuaciones \"d\"\n",
    "A_d = np.array([[4, 1, 1,0,1],[-1, -3,1, 1,0],[2,1, 5, -1,-1],[-1,-1,-1,4,0],[0,2,-1,1,4]])\n",
    "b_d = np.array([6,6, 6,6,6])\n",
    "sistemas = {\n",
    "    'a': (A_a, b_a),\n",
    "    'b': (A_b, b_b),  \n",
    "    'c': (A_c, b_c),\n",
    "    'd': (A_d, b_d),\n",
    "}\n",
    "iterations = 2\n",
    "for literal, (A, b) in sistemas.items():\n",
    "    x0 = np.zeros(len(b))\n",
    "    print(f\"Sistema {literal}:\")\n",
    "    \n",
    "    results = gauss_seidel_method(A, b, x0, iterations)\n",
    "    \n",
    "    for i, res in enumerate(results):\n",
    "        print(f\"  Iteración {i+1}: {res}\")\n",
    "    \n",
    "    print(\"\\n\")"
   ]
  },
  {
   "cell_type": "markdown",
   "id": "3d9b2241-f2be-4fd4-b500-4c102f5be140",
   "metadata": {},
   "source": [
    "## 3. Utilice el metodo de Jacobi para resolver los sistemas iniciales en el ejercicio 1, con TOL=$10^{-3}$"
   ]
  },
  {
   "cell_type": "code",
   "execution_count": 442,
   "id": "3520e66a-9f65-40d3-914f-f8da667b180f",
   "metadata": {},
   "outputs": [
    {
     "name": "stdout",
     "output_type": "stream",
     "text": [
      "\n",
      "Sistema A:\n",
      "Solución aproximada después de 9 iteraciones: [ 0.03510079 -0.23663751  0.65812732]\n",
      "Error final: 0.0007507619179839553\n",
      "\n",
      "\n",
      "Sistema B:\n",
      "Solución aproximada después de 6 iteraciones: [0.995725 0.957775 0.79145 ]\n",
      "Error final: 0.0005250000000001087\n",
      "\n",
      "\n",
      "Sistema C:\n",
      "Solución aproximada después de 21 iteraciones: [-0.79710581  2.79517067 -0.25939578 -2.25179299]\n",
      "Error final: 0.0009590483248249626\n",
      "\n",
      "\n",
      "Sistema D:\n",
      "Solución aproximada después de 12 iteraciones: [ 0.78351258 -1.25474462  1.8323198   1.1864791   2.2884428 ]\n",
      "Error final: 0.000823054560908254\n",
      "\n"
     ]
    }
   ],
   "source": [
    "import numpy as np\n",
    "\n",
    "def jacobi_method(A, b, tol, max_iterations):\n",
    "    n = len(b)\n",
    "    x = np.zeros(n)  \n",
    "    x_new = np.zeros(n) \n",
    "    final_x = None\n",
    "    final_error = None\n",
    "    \n",
    "    for k in range(max_iterations):\n",
    "        for i in range(n):\n",
    "            sum_ = sum(A[i, j] * x[j] for j in range(n) if j != i)\n",
    "            x_new[i] = (b[i] - sum_) / A[i, i]\n",
    "        error = np.linalg.norm(x_new - x, ord=np.inf)\n",
    "        final_x = np.copy(x_new)\n",
    "        final_error = error\n",
    "        \n",
    "        if error < tol:\n",
    "            break\n",
    "        \n",
    "        x = np.copy(x_new)  \n",
    "    \n",
    "    return final_x, k + 1, final_error\n",
    "\n",
    "tol = 1e-3\n",
    "max_iterations = 100\n",
    "sistemas = {\n",
    "    'a': (np.array([[3, -1, 1], [3, 6, 2], [3, 3, 7]]), np.array([1, 0, 4])),\n",
    "    'b': (np.array([[10, -1, 0], [-1, 10, -2], [0, -2, 10]]), np.array([9, 7, 6])),\n",
    "    'c': (np.array([[10, 5, 0, 0], [5, 10, -4, 0], [0, -4, 8, -1], [0, 0, -1, 5]]), np.array([6, 25, -11, -11])),\n",
    "    'd': (np.array([[4, 1, 1, 0, 1], [-1, -3, 1, 1, 0], [2, 1, 5, -1, -1], [0, -1, 0, 4, 0], [0, 2, -1, 1, 4]]), np.array([6, 6, 6, 6, 6]))\n",
    "}\n",
    "for literal, (A, b) in sistemas.items():\n",
    "    print(f\"\\nSistema {literal.upper()}:\")\n",
    "    solution, iterations, final_error = jacobi_method(A, b, tol, max_iterations)\n",
    "    print(f\"Solución aproximada después de {iterations} iteraciones: {solution}\")\n",
    "    print(f\"Error final: {final_error}\\n\")\n"
   ]
  },
  {
   "cell_type": "markdown",
   "id": "7cf7f2f0-ceb0-40b9-a5f2-92078ec0b9a9",
   "metadata": {},
   "source": [
    "## 4. Utilice el método de Gauss-Siedel para resolver los sistemas lineales en el ejercicio 1, con TOL=$10^{-3}$"
   ]
  },
  {
   "cell_type": "code",
   "execution_count": 445,
   "id": "f5f5718f-04ee-4c79-8198-81f918f63f76",
   "metadata": {},
   "outputs": [],
   "source": [
    "import numpy as np\n",
    "\n",
    "def gauss_seidel_method(A, b, tol, max_iterations):\n",
    "    n = len(b)\n",
    "    x = np.zeros(n) \n",
    "    final_x = None\n",
    "    final_error = None\n",
    "\n",
    "    for k in range(max_iterations):\n",
    "        x_old = np.copy(x) \n",
    "\n",
    "        for i in range(n):\n",
    "            sum_ = sum(A[i, j] * x[j] for j in range(n) if j != i)\n",
    "            x[i] = (b[i] - sum_) / A[i, i]\n",
    "        error = np.linalg.norm(x - x_old, ord=np.inf)\n",
    "\n",
    "        final_x = np.copy(x)\n",
    "        final_error = error\n",
    "\n",
    "        if error < tol:\n",
    "            return final_x, k + 1 \n",
    "\n",
    "    return final_x, max_iterations "
   ]
  },
  {
   "cell_type": "code",
   "execution_count": 447,
   "id": "9e0c29eb-47af-4acc-bc48-c91d8466f531",
   "metadata": {},
   "outputs": [
    {
     "name": "stdout",
     "output_type": "stream",
     "text": [
      "\n",
      "Sistema A:\n",
      "Solución aproximada después de 6 iteraciones: [ 0.03535107 -0.23678863  0.65775895]\n",
      "\n",
      "\n",
      "Sistema B:\n",
      "Solución aproximada después de 4 iteraciones: [0.9957475  0.95787375 0.79157475]\n",
      "\n",
      "\n",
      "Sistema C:\n",
      "Solución aproximada después de 9 iteraciones: [-0.79691476  2.79461827 -0.25918081 -2.25183616]\n",
      "\n",
      "\n",
      "Sistema D:\n",
      "Solución aproximada después de 7 iteraciones: [ 0.78324565 -1.2547316   1.8326783   1.1863171   2.2889561 ]\n",
      "\n"
     ]
    }
   ],
   "source": [
    "tol = 1e-3\n",
    "max_iterations = 100\n",
    "sistemas = {\n",
    "    'a': (np.array([[3, -1, 1], [3, 6, 2], [3, 3, 7]]), np.array([1, 0, 4])),\n",
    "    'b': (np.array([[10, -1, 0], [-1, 10, -2], [0, -2, 10]]), np.array([9, 7, 6])),\n",
    "    'c': (np.array([[10, 5, 0, 0], [5, 10, -4, 0], [0, -4, 8, -1], [0, 0, -1, 5]]), np.array([6, 25, -11, -11])),\n",
    "    'd': (np.array([[4, 1, 1, 0, 1], [-1, -3, 1, 1, 0], [2, 1, 5, -1, -1], [0, -1, 0, 4, 0], [0, 2, -1, 1, 4]]), np.array([6, 6, 6, 6, 6]))\n",
    "}\n",
    "for literal, (A, b) in sistemas.items():\n",
    "    print(f\"\\nSistema {literal.upper()}:\")\n",
    "    solution, iterations = gauss_seidel_method(A, b,tol, max_iterations)\n",
    "    print(f\"Solución aproximada después de {iterations} iteraciones: {solution}\\n\")\n"
   ]
  },
  {
   "cell_type": "markdown",
   "id": "c637db37-d33a-48ca-9612-34b641ed502d",
   "metadata": {},
   "source": [
    "## 5. El sistema lineal :"
   ]
  },
  {
   "cell_type": "markdown",
   "id": "7473cda5-e192-4e1d-85ae-648543c2bd8b",
   "metadata": {},
   "source": [
    "$2x_1-x_2+x_3=-1$,  \n",
    "$2x_1+2x_2+2x_3=4$,  \n",
    "$-x_1-x_2+2x_3=-5$  \n",
    "\n",
    "Tiene solucion (1,2,-1)  "
   ]
  },
  {
   "cell_type": "markdown",
   "id": "3a762049-ea83-4236-a27d-584d15ef93cf",
   "metadata": {},
   "source": [
    "### a) Muestre que el metodo de Jacobi con $x_0=0$ falla al proporcionar una buena aproximacion despues de 25 iteraciones."
   ]
  },
  {
   "cell_type": "code",
   "execution_count": 452,
   "id": "570a11b7-036b-44d1-a21d-b15a11ddaa05",
   "metadata": {},
   "outputs": [],
   "source": [
    "import numpy as np\n",
    "\n",
    "def jacobi_method(A, b, x0, max_iterations, tol):\n",
    "    n = len(b)\n",
    "    x = np.copy(x0)\n",
    "    final_x = None\n",
    "    final_error = None\n",
    "    \n",
    "    for k in range(max_iterations):\n",
    "        x_new = np.copy(x)\n",
    "        \n",
    "        for i in range(n):\n",
    "            sum_ = sum(A[i][j] * x[j] for j in range(n) if j != i)\n",
    "            x_new[i] = (b[i] - sum_) / A[i][i]\n",
    "        \n",
    "        error = np.linalg.norm(x_new - x, ord=np.inf)\n",
    "        x = x_new\n",
    "        final_x = np.copy(x)\n",
    "        final_error = error\n",
    "        \n",
    "        if error < tol:\n",
    "            break\n",
    "    \n",
    "    return final_x, k + 1"
   ]
  },
  {
   "cell_type": "code",
   "execution_count": 454,
   "id": "7a7882c5-6d06-4a87-8ec5-9ec290921aa2",
   "metadata": {},
   "outputs": [
    {
     "name": "stdout",
     "output_type": "stream",
     "text": [
      "Método de Jacobi:\n",
      "Solución aproximada después de 25 iteraciones: [-20.82787284   2.         -22.82787284]\n",
      "\n"
     ]
    }
   ],
   "source": [
    "A = np.array([[2, -1, 1],[2, 2, 2],[-1, -1, 2]])\n",
    "b = np.array([-1, 4, -5])\n",
    "x0 = np.zeros(3)\n",
    "max_iterations = 25\n",
    "tol = 1e-5\n",
    "\n",
    "print(\"Método de Jacobi:\")\n",
    "sol_jacobi, iterations = jacobi_method(A, b, x0, max_iterations, tol)\n",
    "print(f\"Solución aproximada después de {iterations} iteraciones: {sol_jacobi}\\n\")\n"
   ]
  },
  {
   "cell_type": "markdown",
   "id": "f0903458-4d5f-4d93-be2f-cee055e2ee46",
   "metadata": {},
   "source": [
    "### b) Utilice el metodo de Gauus-Siedel con $x_0=0$, para aproximar la solucion para el sistema lineal dentro de $10^{-5}$."
   ]
  },
  {
   "cell_type": "code",
   "execution_count": 457,
   "id": "1e17a02d-facb-40e5-a213-a46ec362d9c8",
   "metadata": {},
   "outputs": [
    {
     "name": "stdout",
     "output_type": "stream",
     "text": [
      "\n",
      "Sistema A:\n",
      "Solución aproximada después de 23 iteraciones: [ 1.00000226  1.9999975  -1.00000012]\n",
      "\n"
     ]
    }
   ],
   "source": [
    "import numpy as np\n",
    "\n",
    "def gauss_seidel_method(A, b, tol, max_iterations):\n",
    "    n = len(b)\n",
    "    x = np.zeros(n) \n",
    "    final_x = None\n",
    "    final_error = None\n",
    "\n",
    "    for k in range(max_iterations):\n",
    "        x_old = np.copy(x) \n",
    "\n",
    "        for i in range(n):\n",
    "            sum_ = sum(A[i, j] * x[j] for j in range(n) if j != i)\n",
    "            x[i] = (b[i] - sum_) / A[i, i]\n",
    "        error = np.linalg.norm(x - x_old, ord=np.inf)\n",
    "\n",
    "        final_x = np.copy(x)\n",
    "        final_error = error\n",
    "\n",
    "        if error < tol:\n",
    "            return final_x, k + 1 \n",
    "\n",
    "    return final_x, max_iterations \n",
    "\n",
    "tol = 1e-5\n",
    "max_iterations = 100\n",
    "sistemas = {\n",
    "    'a': (np.array([[2, -1, 1], [2, 2, 2], [-1, -1, 2]]), np.array([-1, 4, -5])),\n",
    "}\n",
    "\n",
    "for literal, (A, b) in sistemas.items():\n",
    "    print(f\"\\nSistema {literal.upper()}:\")\n",
    "    solution, iterations = gauss_seidel_method(A, b, tol, max_iterations)\n",
    "    print(f\"Solución aproximada después de {iterations} iteraciones: {solution}\\n\")\n"
   ]
  },
  {
   "cell_type": "markdown",
   "id": "0b1c2534-60d9-45fe-9e8f-6004f109bd87",
   "metadata": {},
   "source": [
    "## 6. El sistema lineal :"
   ]
  },
  {
   "cell_type": "markdown",
   "id": "40259a69-c545-40a1-8b83-19316ec29b74",
   "metadata": {},
   "source": [
    "$x_1-x_3=0.2$,  \n",
    "$-1/2x_1+x_2-1/4x_3=-1.425$,  \n",
    "$x_1-1/2x_2+x_3=2$  \n",
    "\n",
    "Tiene solucion (0.9,-0.8,0.7)  "
   ]
  },
  {
   "cell_type": "markdown",
   "id": "82d222be-329a-4470-aa86-49ed5daafc44",
   "metadata": {},
   "source": [
    "### a) ¿La matriz de coeficientes  \n",
    "$A=\\begin{bmatrix}\n",
    "1 & 0 & -1 \\\\\n",
    "-1/2 & 1 & -1/4 \\\\\n",
    "1 & -1/2 & 1 \\\\\n",
    "\\end{bmatrix}$  \n",
    "tiene diagonal estrictamente dominante?"
   ]
  },
  {
   "cell_type": "code",
   "execution_count": 462,
   "id": "1bdc4b22-beb3-408b-8d60-6ee03f5239ab",
   "metadata": {},
   "outputs": [
    {
     "name": "stdout",
     "output_type": "stream",
     "text": [
      "Fila 1: Elemento diagonal = 4.0, Suma fuera diagonal = 1.0\n",
      "-> La fila 1 cumple con la dominancia diagonal estricta.\n",
      "Fila 2: Elemento diagonal = 1.0, Suma fuera diagonal = 0.75\n",
      "-> La fila 2 cumple con la dominancia diagonal estricta.\n",
      "Fila 3: Elemento diagonal = 1.0, Suma fuera diagonal = 1.5\n",
      "-> La fila 3 no cumple con la dominancia diagonal estricta.\n",
      "\n",
      "La matriz no es estrictamente diagonalmente dominante.\n"
     ]
    }
   ],
   "source": [
    "import numpy as np\n",
    "def es_estrictamente_diagonal_dominante(A):\n",
    "    n = A.shape[0]\n",
    "    es_dominante = True  \n",
    "    for i in range(n):\n",
    "        diagonal = abs(A[i, i])\n",
    "        suma_fuera_diagonal = sum(abs(A[i, j]) for j in range(n) if j != i)\n",
    "        print(f\"Fila {i+1}: Elemento diagonal = {diagonal}, Suma fuera diagonal = {suma_fuera_diagonal}\")\n",
    "        if diagonal <= suma_fuera_diagonal:\n",
    "            print(f\"-> La fila {i+1} no cumple con la dominancia diagonal estricta.\")\n",
    "            es_dominante = False\n",
    "        else:\n",
    "            print(f\"-> La fila {i+1} cumple con la dominancia diagonal estricta.\")\n",
    "    return es_dominante\n",
    "\n",
    "A = np.array([[4,0,-1],[-1/2,1,-1/4],[1,-1/2,1],\n",
    "])\n",
    "if es_estrictamente_diagonal_dominante(A):\n",
    "    print(\"\\nLa matriz es estrictamente diagonalmente dominante.\")\n",
    "else:\n",
    "    print(\"\\nLa matriz no es estrictamente diagonalmente dominante.\")"
   ]
  },
  {
   "cell_type": "markdown",
   "id": "ec0367c5-735d-4af5-8651-08ce491c6432",
   "metadata": {},
   "source": [
    "### b) Utilice el metodo iterativo de Gauss-Siedel para aproximar la solucion para el sistema lineal con una tolerancia de $10_22$ y un maximo de 300 iteraciones."
   ]
  },
  {
   "cell_type": "code",
   "execution_count": 465,
   "id": "06b4e897-8bfa-47c3-80c8-73420ead2e22",
   "metadata": {},
   "outputs": [],
   "source": [
    "import numpy as np\n",
    "def gauss_seidel_method(A, b, tol, max_iterations):\n",
    "    n = len(b)\n",
    "    x = np.zeros(n) \n",
    "\n",
    "    for k in range(max_iterations):\n",
    "        x_old = np.copy(x) \n",
    "\n",
    "        for i in range(n):\n",
    "            sum_ = sum(A[i, j] * x[j] for j in range(n) if j != i)\n",
    "            x[i] = (b[i] - sum_) / A[i, i]\n",
    "\n",
    "        error = np.linalg.norm(x - x_old, ord=np.inf)\n",
    "        if error < tol:\n",
    "            print(f\"Convergencia alcanzada después de {k+1} iteraciones.\")\n",
    "            print(f\"Última Iteración {k+1}: x = {x}, Error = {error:.2e}\")\n",
    "            return x, k + 1 \n",
    "    print(f\"No se alcanzó la convergencia después de {max_iterations} iteraciones.\")\n",
    "    print(f\"Última Iteración {max_iterations}: x = {x}, Error = {error:.2e}\")\n",
    "    return x, max_iterations"
   ]
  },
  {
   "cell_type": "code",
   "execution_count": 467,
   "id": "843cacb6-6f28-4421-a6ac-08949f0a82a2",
   "metadata": {},
   "outputs": [
    {
     "name": "stdout",
     "output_type": "stream",
     "text": [
      "Sistema inicial (b):\n",
      "No se alcanzó la convergencia después de 300 iteraciones.\n",
      "Última Iteración 300: x = [ 0.9 -0.8  0.7], Error = 2.22e-16\n",
      "Solución aproximada: (array([ 0.9, -0.8,  0.7]), 300)\n",
      "\n"
     ]
    }
   ],
   "source": [
    "A = np.array([[1, 0, -1],[-1/2, 1, -1/4],[1, -1/2, 1]])\n",
    "\n",
    "b = np.array([0.2, -1.425, 2])\n",
    "\n",
    "\n",
    "x0 = np.zeros(3)\n",
    "\n",
    "tol = 1e-22\n",
    "max_iterations = 300\n",
    "print(\"Sistema inicial (b):\")\n",
    "solution_b = gauss_seidel_method(A, b, tol, max_iterations)\n",
    "print(f\"Solución aproximada: {solution_b}\\n\")\n"
   ]
  },
  {
   "cell_type": "markdown",
   "id": "155fa10d-b4b7-4c92-b335-acca39275e92",
   "metadata": {},
   "source": [
    "### c) ¿Que pasa en la parte b) cuando el sistema cambia por el siguiente?  \n",
    "$x_1-2x_3=0.2$,  \n",
    "$-1/2x_1+x_2-1/4x_3=-1.425$,  \n",
    "$x_1-1/2x_2+x_3=2$"
   ]
  },
  {
   "cell_type": "code",
   "execution_count": 470,
   "id": "dfb6a20e-f311-47c0-b6db-9b9f4e2214f0",
   "metadata": {},
   "outputs": [
    {
     "name": "stdout",
     "output_type": "stream",
     "text": [
      "Sistema modificado (c) con el método de Gauss-Seidel:\n",
      "No se alcanzó la convergencia después de 300 iteraciones.\n",
      "Última Iteración 300: x = [ 2.15687283e+41  1.34804552e+41 -1.48285007e+41], Error = 3.73e+41\n",
      "Solución aproximada: (array([ 2.15687283e+41,  1.34804552e+41, -1.48285007e+41]), 300)\n",
      "\n"
     ]
    }
   ],
   "source": [
    "A = np.array([[1, 0, -2],[-1/2, 1, -1/4],[1, -1/2, 1]])\n",
    "b = np.array([0.2, -1.425, 2])\n",
    "x0 = np.zeros(3)\n",
    "tol = 1e-22\n",
    "max_iterations = 300\n",
    "print(\"Sistema modificado (c) con el método de Gauss-Seidel:\")\n",
    "solution_c= gauss_seidel_method(A, b, tol, max_iterations)\n",
    "print(f\"Solución aproximada: {solution_c}\\n\")"
   ]
  },
  {
   "cell_type": "markdown",
   "id": "f02b53ff-0a09-401d-9a7e-9edd2c2e644b",
   "metadata": {},
   "source": [
    "## 7. Repita el ejercicio 6 usando el metodo de Jacobi."
   ]
  },
  {
   "cell_type": "code",
   "execution_count": 473,
   "id": "5c26f792-51ba-4560-8a61-0da19c4e5190",
   "metadata": {},
   "outputs": [
    {
     "name": "stdout",
     "output_type": "stream",
     "text": [
      "Sistema inicial (b) con el método de Jacobi:\n",
      "Última Iteración 300: x = [ 0.90025541 -0.80004033  0.70012933], Error = 4.64e-04\n",
      "No se alcanzó la convergencia después de 300 iteraciones.\n",
      "Solución aproximada: [ 0.90025541 -0.80004033  0.70012933]\n",
      "\n",
      "Sistema modificado (c) con el método de Jacobi:\n",
      "Última Iteración 300: x = [ 1.34478913e+43 -7.28028158e+42  1.56650340e+43], Error = 3.14e+43\n",
      "No se alcanzó la convergencia después de 300 iteraciones.\n",
      "Solución aproximada: [ 1.34478913e+43 -7.28028158e+42  1.56650340e+43]\n",
      "\n"
     ]
    }
   ],
   "source": [
    "import numpy as np\n",
    "\n",
    "def jacobi(A, b, x0, tol, max_iterations):\n",
    "    n = len(b)\n",
    "    x = np.copy(x0)\n",
    "    x_new = np.copy(x0)\n",
    "    last_error = None \n",
    "    last_iteration = 0\n",
    "\n",
    "    for k in range(max_iterations):\n",
    "        for i in range(n):\n",
    "            sum_ = sum(A[i, j] * x[j] for j in range(n) if j != i)\n",
    "            x_new[i] = (b[i] - sum_) / A[i, i]\n",
    "        error = np.linalg.norm(x_new - x, ord=np.inf)\n",
    "        last_error = error\n",
    "        last_iteration = k+1\n",
    "        if error < tol:\n",
    "            break\n",
    "        \n",
    "        x = np.copy(x_new)\n",
    "    print(f\"Última Iteración {last_iteration}: x = {x_new}, Error = {last_error:.2e}\") \n",
    "    if last_error < tol:\n",
    "        print(f\"Convergencia alcanzada después de {last_iteration} iteraciones.\")\n",
    "    else:\n",
    "        print(f\"No se alcanzó la convergencia después de {last_iteration} iteraciones.\")\n",
    "    \n",
    "    return x_new\n",
    "\n",
    "# Sistema inicial (b)\n",
    "A_b = np.array([[1, 0, -1],[-1/2, 1, -1/4],[1, -1/2, 1]])\n",
    "b_b = np.array([0.2, -1.425, 2])\n",
    "\n",
    "# Sistema modificado (c)\n",
    "A_c = np.array([\n",
    "    [1, 0, -2],\n",
    "    [-1/2, 1, -1/4],\n",
    "    [1, -1/2, 1]\n",
    "])\n",
    "\n",
    "b_c = np.array([0.2, -1.425, 2])\n",
    "x0 = np.zeros(3)\n",
    "tol = 1e-22\n",
    "max_iterations = 300\n",
    "print(\"Sistema inicial (b) con el método de Jacobi:\")\n",
    "solution_b = jacobi(A_b, b_b, x0, tol, max_iterations)\n",
    "print(f\"Solución aproximada: {solution_b}\\n\")\n",
    "\n",
    "print(\"Sistema modificado (c) con el método de Jacobi:\")\n",
    "solution_c = jacobi(A_c, b_c, x0, tol, max_iterations)\n",
    "print(f\"Solución aproximada: {solution_c}\\n\")\n"
   ]
  },
  {
   "cell_type": "markdown",
   "id": "12b1957a-1fcb-4a81-a120-2340ad06326a",
   "metadata": {},
   "source": [
    "## 8. Un cable coaxial está formado por un conductor interno de 0.1 pulgadas cuadradas y un conductor externo de 0.5 pulgadas cuadradas.El potencial en un punto en la sección transversal del cable se describe mediante la ecuación de Laplace. \n",
    "Suponga que el conductor interno se mantiene en 0 volts y el conductor externo se mantiene en 110 volts. Aproximar\n",
    "el potencial entre los dos conductores requiere resolver el siguiente sistema lineal."
   ]
  },
  {
   "cell_type": "markdown",
   "id": "f71da2c9-dbff-4a97-9cc3-f60d80c4aaac",
   "metadata": {},
   "source": [
    "![](5.png)"
   ]
  },
  {
   "cell_type": "markdown",
   "id": "4f6e0821-73ae-436b-bf7f-b83c3fa389f0",
   "metadata": {},
   "source": [
    "### a) ¿La matriz es estrictamente diagonalmente dominante?"
   ]
  },
  {
   "cell_type": "code",
   "execution_count": 478,
   "id": "73f69bbc-460c-41fd-b75e-3b1e9cb579f1",
   "metadata": {},
   "outputs": [
    {
     "name": "stdout",
     "output_type": "stream",
     "text": [
      "Fila 1: Elemento diagonal = 4, Suma fuera diagonal = 2\n",
      "-> La fila 1 cumple con la dominancia diagonal estricta.\n",
      "Fila 2: Elemento diagonal = 4, Suma fuera diagonal = 2\n",
      "-> La fila 2 cumple con la dominancia diagonal estricta.\n",
      "Fila 3: Elemento diagonal = 4, Suma fuera diagonal = 2\n",
      "-> La fila 3 cumple con la dominancia diagonal estricta.\n",
      "Fila 4: Elemento diagonal = 4, Suma fuera diagonal = 2\n",
      "-> La fila 4 cumple con la dominancia diagonal estricta.\n",
      "Fila 5: Elemento diagonal = 4, Suma fuera diagonal = 2\n",
      "-> La fila 5 cumple con la dominancia diagonal estricta.\n",
      "Fila 6: Elemento diagonal = 4, Suma fuera diagonal = 2\n",
      "-> La fila 6 cumple con la dominancia diagonal estricta.\n",
      "Fila 7: Elemento diagonal = 4, Suma fuera diagonal = 2\n",
      "-> La fila 7 cumple con la dominancia diagonal estricta.\n",
      "Fila 8: Elemento diagonal = 4, Suma fuera diagonal = 1\n",
      "-> La fila 8 cumple con la dominancia diagonal estricta.\n",
      "Fila 9: Elemento diagonal = 4, Suma fuera diagonal = 2\n",
      "-> La fila 9 cumple con la dominancia diagonal estricta.\n",
      "Fila 10: Elemento diagonal = 4, Suma fuera diagonal = 2\n",
      "-> La fila 10 cumple con la dominancia diagonal estricta.\n",
      "Fila 11: Elemento diagonal = 4, Suma fuera diagonal = 2\n",
      "-> La fila 11 cumple con la dominancia diagonal estricta.\n",
      "Fila 12: Elemento diagonal = 4, Suma fuera diagonal = 3\n",
      "-> La fila 12 cumple con la dominancia diagonal estricta.\n",
      "\n",
      "La matriz es estrictamente diagonalmente dominante.\n"
     ]
    }
   ],
   "source": [
    "import numpy as np\n",
    "def es_estrictamente_diagonal_dominante(A):\n",
    "    n = A.shape[0]\n",
    "    es_dominante = True  \n",
    "    for i in range(n):\n",
    "        diagonal = abs(A[i, i])\n",
    "        suma_fuera_diagonal = sum(abs(A[i, j]) for j in range(n) if j != i)\n",
    "        print(f\"Fila {i+1}: Elemento diagonal = {diagonal}, Suma fuera diagonal = {suma_fuera_diagonal}\")\n",
    "        if diagonal <= suma_fuera_diagonal:\n",
    "            print(f\"-> La fila {i+1} no cumple con la dominancia diagonal estricta.\")\n",
    "            es_dominante = False\n",
    "        else:\n",
    "            print(f\"-> La fila {i+1} cumple con la dominancia diagonal estricta.\")\n",
    "    \n",
    "    return es_dominante\n",
    "\n",
    "A = np.array([\n",
    "    [4, -1, 0, 0, 0, -1, 0, 0, 0, 0, 0, 0],\n",
    "    [-1, 4, -1, 0, 0, 0, 0, 0, 0, 0, 0, 0],\n",
    "    [0, -1, 4, -1, 0, 0, 0, 0, 0, 0, 0, 0],\n",
    "    [0, 0, -1, 4, 0, 0, 0, 0, 0, 0, 0, -1],\n",
    "    [-1, 0, 0, 0, 4, 0, 0, 0, 0, -1, 0, 0],\n",
    "    [0, 0, 0, 0, 0, 4, -1, 0, 0, 0, -1, 0],\n",
    "    [0, 0, 0, 0, 0, -1, 4, -1, 0, 0, 0, 0],\n",
    "    [0, 0, 0, 0, 0, 0, -1, 4, 0, 0, 0, 0],\n",
    "    [0, 0, 0, 0, 0, 0, 0, 0, 4, -1, 0, -1],\n",
    "    [0, 0, 0, 0, -1, 0, 0, 0, -1, 4, 0, 0],\n",
    "    [0, 0, 0, 0, 0, -1, 0, 0, 0, 0, 4, -1],\n",
    "    [0, 0, 0, -1, 0, 0, 0, 0, -1, 0, -1, 4]])\n",
    "if es_estrictamente_diagonal_dominante(A):\n",
    "    print(\"\\nLa matriz es estrictamente diagonalmente dominante.\")\n",
    "else:\n",
    "    print(\"\\nLa matriz no es estrictamente diagonalmente dominante.\")"
   ]
  },
  {
   "cell_type": "markdown",
   "id": "0aef6a09-e364-4151-8f65-cc88b4b08d5c",
   "metadata": {},
   "source": [
    "### b) Resuelva el sistema lineal usando el metodo de Jacobi con $x_0=0 y TOL=10^{-2}$"
   ]
  },
  {
   "cell_type": "code",
   "execution_count": 481,
   "id": "565e6446-7ff7-4030-8130-893fbb75cf59",
   "metadata": {},
   "outputs": [],
   "source": [
    "import numpy as np\n",
    "\n",
    "def jacobi_method(A, b, x0, tol, max_iterations):\n",
    "    x = x0.copy()\n",
    "    n = len(b)\n",
    "    x_prev = np.zeros(n)\n",
    "    final_x = None\n",
    "    final_error = None\n",
    "    \n",
    "    for k in range(max_iterations):\n",
    "        x_prev = x.copy()\n",
    "        \n",
    "        for i in range(n):\n",
    "            sum_ = sum(A[i][j] * x_prev[j] for j in range(n) if j != i)\n",
    "            x[i] = (b[i] - sum_) / A[i][i]\n",
    "        error = np.linalg.norm(x - x_prev, ord=np.inf)\n",
    "        final_x = x.copy()\n",
    "        final_error = error\n",
    "        \n",
    "        if error < tol:\n",
    "            break\n",
    "    \n",
    "    return final_x, k + 1, final_error"
   ]
  },
  {
   "cell_type": "code",
   "execution_count": 483,
   "id": "281dbca2-8909-437d-b4ef-38eb949e0758",
   "metadata": {},
   "outputs": [
    {
     "name": "stdout",
     "output_type": "stream",
     "text": [
      "Solución aproximada después de 15 iteraciones: [ 86.40227661  66.62768292  70.1176931  103.85466119  66.62768292\n",
      "  58.98986709  52.39574392  40.59828363 103.85466119  70.1176931\n",
      "  73.572989   125.31533062]\n",
      "Error final: 9.20e-03\n"
     ]
    }
   ],
   "source": [
    "b = np.array([220, 110, 110, 220, 110, 110, 110, 110, 220, 110, 110, 220])\n",
    "x0 = np.zeros(len(b))\n",
    "tol = 1e-2\n",
    "max_iterations = 300\n",
    "solution, iterations, final_error = jacobi_method(A, b, x0, tol, max_iterations)\n",
    "print(f\"Solución aproximada después de {iterations} iteraciones: {solution}\")\n",
    "print(f\"Error final: {final_error:.2e}\")"
   ]
  },
  {
   "cell_type": "markdown",
   "id": "e0002950-c0d0-4c3d-9a5d-b14cda6476d1",
   "metadata": {},
   "source": [
    "### c) Repita la parte b) mediante el metodo de Gauss-Siedel."
   ]
  },
  {
   "cell_type": "code",
   "execution_count": 486,
   "id": "5e543acb-7976-41fb-8dcd-ca72a0feda07",
   "metadata": {},
   "outputs": [],
   "source": [
    "import numpy as np\n",
    "\n",
    "def gauss_seidel_method(A, b, x0, tol, max_iterations):\n",
    "    x = x0.copy()\n",
    "    n = len(b)\n",
    "    final_x = None\n",
    "    final_error = None\n",
    "    iterations = 0\n",
    "    \n",
    "    for k in range(max_iterations):\n",
    "        x_prev = x.copy()\n",
    "        \n",
    "        for i in range(n):\n",
    "            sum_ = sum(A[i][j] * x[j] for j in range(n) if j != i)\n",
    "            x[i] = (b[i] - sum_) / A[i][i]\n",
    "        \n",
    "        error = np.linalg.norm(x - x_prev, ord=np.inf)\n",
    "        final_x = x.copy()\n",
    "        final_error = error\n",
    "        iterations = k + 1\n",
    "        \n",
    "        if error < tol:\n",
    "            break\n",
    "    \n",
    "    return final_x, iterations, final_error"
   ]
  },
  {
   "cell_type": "code",
   "execution_count": 488,
   "id": "c601195b-64b1-4450-a864-61fc65a6a061",
   "metadata": {},
   "outputs": [
    {
     "name": "stdout",
     "output_type": "stream",
     "text": [
      "\n",
      "Solución final después de 10 iteraciones: [ 86.40549601  66.63171896  70.12309751 103.86199292  66.63205707\n",
      "  58.99409476  52.39839298  40.59959824 103.86190161  70.12348967\n",
      "  73.57974223 125.32590919]\n",
      "Error final: 3.32e-03\n"
     ]
    }
   ],
   "source": [
    "solution_gauss_seidel, iterations, final_error = gauss_seidel_method(A, b, x0, tol, max_iterations)\n",
    "print(f\"\\nSolución final después de {iterations} iteraciones: {solution_gauss_seidel}\")\n",
    "print(f\"Error final: {final_error:.2e}\")"
   ]
  },
  {
   "cell_type": "markdown",
   "id": "e7a26c58-445e-4403-ab37-c30ac1ecf2a8",
   "metadata": {},
   "source": [
    "Link de repositorio: https://github.com/armando-2002/Metodos_Numericos.git "
   ]
  },
  {
   "cell_type": "code",
   "execution_count": null,
   "id": "c94f54b0-a2ac-469d-aa63-79c0472b89ab",
   "metadata": {},
   "outputs": [],
   "source": []
  }
 ],
 "metadata": {
  "kernelspec": {
   "display_name": "Python 3 (ipykernel)",
   "language": "python",
   "name": "python3"
  },
  "language_info": {
   "codemirror_mode": {
    "name": "ipython",
    "version": 3
   },
   "file_extension": ".py",
   "mimetype": "text/x-python",
   "name": "python",
   "nbconvert_exporter": "python",
   "pygments_lexer": "ipython3",
   "version": "3.11.7"
  }
 },
 "nbformat": 4,
 "nbformat_minor": 5
}
